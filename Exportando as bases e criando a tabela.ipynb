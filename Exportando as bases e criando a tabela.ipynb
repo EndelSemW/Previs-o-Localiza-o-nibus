{
  "cells": [
    {
      "cell_type": "code",
      "execution_count": null,
      "metadata": {
        "colab": {
          "base_uri": "https://localhost:8080/"
        },
        "id": "Dg-zaoFrOxR4",
        "outputId": "b6d56ac7-2c2d-4181-ff19-f1386dba21e4"
      },
      "outputs": [
        {
          "output_type": "stream",
          "name": "stdout",
          "text": [
            "Requirement already satisfied: gdown in /usr/local/lib/python3.10/dist-packages (5.1.0)\n",
            "Requirement already satisfied: beautifulsoup4 in /usr/local/lib/python3.10/dist-packages (from gdown) (4.12.3)\n",
            "Requirement already satisfied: filelock in /usr/local/lib/python3.10/dist-packages (from gdown) (3.14.0)\n",
            "Requirement already satisfied: requests[socks] in /usr/local/lib/python3.10/dist-packages (from gdown) (2.31.0)\n",
            "Requirement already satisfied: tqdm in /usr/local/lib/python3.10/dist-packages (from gdown) (4.66.4)\n",
            "Requirement already satisfied: soupsieve>1.2 in /usr/local/lib/python3.10/dist-packages (from beautifulsoup4->gdown) (2.5)\n",
            "Requirement already satisfied: charset-normalizer<4,>=2 in /usr/local/lib/python3.10/dist-packages (from requests[socks]->gdown) (3.3.2)\n",
            "Requirement already satisfied: idna<4,>=2.5 in /usr/local/lib/python3.10/dist-packages (from requests[socks]->gdown) (3.7)\n",
            "Requirement already satisfied: urllib3<3,>=1.21.1 in /usr/local/lib/python3.10/dist-packages (from requests[socks]->gdown) (2.0.7)\n",
            "Requirement already satisfied: certifi>=2017.4.17 in /usr/local/lib/python3.10/dist-packages (from requests[socks]->gdown) (2024.6.2)\n",
            "Requirement already satisfied: PySocks!=1.5.7,>=1.5.6 in /usr/local/lib/python3.10/dist-packages (from requests[socks]->gdown) (1.7.1)\n",
            "Collecting mysql-connector-python\n",
            "  Downloading mysql_connector_python-8.4.0-cp310-cp310-manylinux_2_17_x86_64.whl (19.4 MB)\n",
            "\u001b[2K     \u001b[90m━━━━━━━━━━━━━━━━━━━━━━━━━━━━━━━━━━━━━━━━\u001b[0m \u001b[32m19.4/19.4 MB\u001b[0m \u001b[31m46.8 MB/s\u001b[0m eta \u001b[36m0:00:00\u001b[0m\n",
            "\u001b[?25hInstalling collected packages: mysql-connector-python\n",
            "Successfully installed mysql-connector-python-8.4.0\n",
            "Reading package lists... Done\n",
            "Building dependency tree... Done\n",
            "Reading state information... Done\n",
            "unzip is already the newest version (6.0-26ubuntu3.2).\n",
            "0 upgraded, 0 newly installed, 0 to remove and 45 not upgraded.\n"
          ]
        }
      ],
      "source": [
        "!pip install gdown\n",
        "!pip install mysql-connector-python\n",
        "!apt-get install unzip"
      ]
    },
    {
      "cell_type": "markdown",
      "metadata": {
        "id": "xobKDWIl1hb9"
      },
      "source": [
        "**DOWNLOAD E EXTRAÇÃO DOS ARQUIVOS DO DRIVE**"
      ]
    },
    {
      "cell_type": "code",
      "execution_count": null,
      "metadata": {
        "colab": {
          "base_uri": "https://localhost:8080/"
        },
        "collapsed": true,
        "id": "MFI6QQjPQLWC",
        "outputId": "c53c2d71-54e8-4f22-a791-4912ae15cffb"
      },
      "outputs": [
        {
          "output_type": "stream",
          "name": "stderr",
          "text": [
            "Retrieving folder contents\n"
          ]
        },
        {
          "output_type": "stream",
          "name": "stdout",
          "text": [
            "Processing file 10FIh0ne7qhAZtf5OF6KnvOfbKjyY_oZ- 2024-04-25.zip\n",
            "Processing file 1WtACHPj5ktoDtlUXracDyr3uE75f4C-X 2024-04-26.zip\n",
            "Processing file 1-DvY9B6nQlmZLp57zbJD850fm0rLoG0B 2024-04-27.zip\n",
            "Processing file 1w4Vy7v3-Y5-f2tIfsKgxJCyvcG5ClzVp 2024-04-28.zip\n",
            "Processing file 1Zp-BLCCL1IPbWWgIHxEeuVfu_wHwDG13 2024-04-29.zip\n",
            "Processing file 1bRXFvvsx5AV0vNoYgQxSMXyncLTPpLL6 2024-04-30.zip\n",
            "Processing file 1MoyGTqRcR4G0Cx-756_2aDZN42cljIUV 2024-05-01.zip\n",
            "Processing file 1L3kTbjeYF8ykRjAfAqDaNqaUbzFAIDmk 2024-05-02.zip\n",
            "Processing file 1n-63LHaHKI1KRMpIBwsqIbQk3BO8VEL5 2024-05-03.zip\n",
            "Processing file 1N5tul7qVwxIXS9qfIOck5hztABdhyDCQ 2024-05-04.zip\n",
            "Processing file 1X0KPTH5XRHzmEIR1KHDD23vh359Kzp3m 2024-05-05.zip\n",
            "Processing file 1d3wDkVgeqMtWBnKKS6vb1hoLZb3Amtau 2024-05-06.zip\n",
            "Processing file 1ckOoRJ7gkQhHEYro_-RmhRD5HeSs_cU5 2024-05-07.zip\n",
            "Processing file 1W5_01AJquaVhHUaxnbwuYFaXCzITpFvm 2024-05-08.zip\n",
            "Processing file 15nHmZQll3QhyYAWtY8tTlNSvI3xJPF1q 2024-05-09.zip\n",
            "Processing file 1A3n5kszFuFJPZbt143bc28fEGx4R9Bcc 2024-05-10.zip\n"
          ]
        },
        {
          "output_type": "stream",
          "name": "stderr",
          "text": [
            "Retrieving folder contents completed\n",
            "Building directory structure\n",
            "Building directory structure completed\n",
            "Downloading...\n",
            "From (original): https://drive.google.com/uc?id=10FIh0ne7qhAZtf5OF6KnvOfbKjyY_oZ-\n",
            "From (redirected): https://drive.google.com/uc?id=10FIh0ne7qhAZtf5OF6KnvOfbKjyY_oZ-&confirm=t&uuid=593e55d0-34d6-40d2-8fcc-f87bcfec198f\n",
            "To: /content/data/2024-04-25.zip\n",
            "100%|██████████| 174M/174M [00:00<00:00, 196MB/s]\n",
            "Downloading...\n",
            "From (original): https://drive.google.com/uc?id=1WtACHPj5ktoDtlUXracDyr3uE75f4C-X\n",
            "From (redirected): https://drive.google.com/uc?id=1WtACHPj5ktoDtlUXracDyr3uE75f4C-X&confirm=t&uuid=479d4483-22d4-46d5-ae46-b3263bb3499d\n",
            "To: /content/data/2024-04-26.zip\n",
            "100%|██████████| 172M/172M [00:08<00:00, 21.0MB/s]\n",
            "Downloading...\n",
            "From (original): https://drive.google.com/uc?id=1-DvY9B6nQlmZLp57zbJD850fm0rLoG0B\n",
            "From (redirected): https://drive.google.com/uc?id=1-DvY9B6nQlmZLp57zbJD850fm0rLoG0B&confirm=t&uuid=15d2275d-4f44-431d-afe3-00f55a663a26\n",
            "To: /content/data/2024-04-27.zip\n",
            "100%|██████████| 120M/120M [00:00<00:00, 193MB/s]\n",
            "Downloading...\n",
            "From (original): https://drive.google.com/uc?id=1w4Vy7v3-Y5-f2tIfsKgxJCyvcG5ClzVp\n",
            "From (redirected): https://drive.google.com/uc?id=1w4Vy7v3-Y5-f2tIfsKgxJCyvcG5ClzVp&confirm=t&uuid=25e673dd-eee2-4666-a927-c5e7b1ea05df\n",
            "To: /content/data/2024-04-28.zip\n",
            "100%|██████████| 82.0M/82.0M [00:03<00:00, 20.9MB/s]\n",
            "Downloading...\n",
            "From (original): https://drive.google.com/uc?id=1Zp-BLCCL1IPbWWgIHxEeuVfu_wHwDG13\n",
            "From (redirected): https://drive.google.com/uc?id=1Zp-BLCCL1IPbWWgIHxEeuVfu_wHwDG13&confirm=t&uuid=2c11a6df-627d-49b6-b595-58eed5ba1984\n",
            "To: /content/data/2024-04-29.zip\n",
            "100%|██████████| 169M/169M [00:00<00:00, 197MB/s]\n",
            "Downloading...\n",
            "From (original): https://drive.google.com/uc?id=1bRXFvvsx5AV0vNoYgQxSMXyncLTPpLL6\n",
            "From (redirected): https://drive.google.com/uc?id=1bRXFvvsx5AV0vNoYgQxSMXyncLTPpLL6&confirm=t&uuid=881e101f-caea-477b-9cef-44421025f519\n",
            "To: /content/data/2024-04-30.zip\n",
            "100%|██████████| 175M/175M [00:07<00:00, 23.3MB/s]\n",
            "Downloading...\n",
            "From (original): https://drive.google.com/uc?id=1MoyGTqRcR4G0Cx-756_2aDZN42cljIUV\n",
            "From (redirected): https://drive.google.com/uc?id=1MoyGTqRcR4G0Cx-756_2aDZN42cljIUV&confirm=t&uuid=5050dafa-26bb-42b8-905d-6eb86892d44f\n",
            "To: /content/data/2024-05-01.zip\n",
            "100%|██████████| 92.8M/92.8M [00:00<00:00, 169MB/s]\n",
            "Downloading...\n",
            "From (original): https://drive.google.com/uc?id=1L3kTbjeYF8ykRjAfAqDaNqaUbzFAIDmk\n",
            "From (redirected): https://drive.google.com/uc?id=1L3kTbjeYF8ykRjAfAqDaNqaUbzFAIDmk&confirm=t&uuid=97f10ca2-dd55-461f-a42b-3a5ced6e5b00\n",
            "To: /content/data/2024-05-02.zip\n",
            "100%|██████████| 173M/173M [00:05<00:00, 31.3MB/s]\n",
            "Downloading...\n",
            "From (original): https://drive.google.com/uc?id=1n-63LHaHKI1KRMpIBwsqIbQk3BO8VEL5\n",
            "From (redirected): https://drive.google.com/uc?id=1n-63LHaHKI1KRMpIBwsqIbQk3BO8VEL5&confirm=t&uuid=b4b62d33-83fe-4210-8e7e-224f4a543e1c\n",
            "To: /content/data/2024-05-03.zip\n",
            "100%|██████████| 176M/176M [00:05<00:00, 30.3MB/s]\n",
            "Downloading...\n",
            "From (original): https://drive.google.com/uc?id=1N5tul7qVwxIXS9qfIOck5hztABdhyDCQ\n",
            "From (redirected): https://drive.google.com/uc?id=1N5tul7qVwxIXS9qfIOck5hztABdhyDCQ&confirm=t&uuid=4ce4e748-904f-44c7-8b8c-cf96ff46456f\n",
            "To: /content/data/2024-05-04.zip\n",
            "100%|██████████| 128M/128M [00:04<00:00, 26.8MB/s]\n",
            "Downloading...\n",
            "From (original): https://drive.google.com/uc?id=1X0KPTH5XRHzmEIR1KHDD23vh359Kzp3m\n",
            "From (redirected): https://drive.google.com/uc?id=1X0KPTH5XRHzmEIR1KHDD23vh359Kzp3m&confirm=t&uuid=291f2bff-8e0c-47c2-9977-465b0f0e5893\n",
            "To: /content/data/2024-05-05.zip\n",
            "100%|██████████| 92.0M/92.0M [00:00<00:00, 161MB/s]\n",
            "Downloading...\n",
            "From (original): https://drive.google.com/uc?id=1d3wDkVgeqMtWBnKKS6vb1hoLZb3Amtau\n",
            "From (redirected): https://drive.google.com/uc?id=1d3wDkVgeqMtWBnKKS6vb1hoLZb3Amtau&confirm=t&uuid=c744481e-8688-41c1-a7c9-780d3f48cbec\n",
            "To: /content/data/2024-05-06.zip\n",
            "100%|██████████| 171M/171M [00:01<00:00, 88.2MB/s]\n",
            "Downloading...\n",
            "From (original): https://drive.google.com/uc?id=1ckOoRJ7gkQhHEYro_-RmhRD5HeSs_cU5\n",
            "From (redirected): https://drive.google.com/uc?id=1ckOoRJ7gkQhHEYro_-RmhRD5HeSs_cU5&confirm=t&uuid=c4f1b918-7047-4a34-b2c4-cebf6eaddf81\n",
            "To: /content/data/2024-05-07.zip\n",
            "100%|██████████| 176M/176M [00:05<00:00, 33.5MB/s]\n",
            "Downloading...\n",
            "From (original): https://drive.google.com/uc?id=1W5_01AJquaVhHUaxnbwuYFaXCzITpFvm\n",
            "From (redirected): https://drive.google.com/uc?id=1W5_01AJquaVhHUaxnbwuYFaXCzITpFvm&confirm=t&uuid=59e79693-e604-446a-9e0b-3a62013928f4\n",
            "To: /content/data/2024-05-08.zip\n",
            "100%|██████████| 177M/177M [00:01<00:00, 116MB/s] \n",
            "Downloading...\n",
            "From (original): https://drive.google.com/uc?id=15nHmZQll3QhyYAWtY8tTlNSvI3xJPF1q\n",
            "From (redirected): https://drive.google.com/uc?id=15nHmZQll3QhyYAWtY8tTlNSvI3xJPF1q&confirm=t&uuid=84474188-ea24-4ae0-b5dc-c7723cc2ba7c\n",
            "To: /content/data/2024-05-09.zip\n",
            "100%|██████████| 178M/178M [00:06<00:00, 27.8MB/s]\n",
            "Downloading...\n",
            "From (original): https://drive.google.com/uc?id=1A3n5kszFuFJPZbt143bc28fEGx4R9Bcc\n",
            "From (redirected): https://drive.google.com/uc?id=1A3n5kszFuFJPZbt143bc28fEGx4R9Bcc&confirm=t&uuid=8662e79f-4fde-4db6-b551-ed74c33c1059\n",
            "To: /content/data/2024-05-10.zip\n",
            "100%|██████████| 176M/176M [00:09<00:00, 19.0MB/s]"
          ]
        },
        {
          "output_type": "stream",
          "name": "stdout",
          "text": [
            "16 arquivos baixados\n"
          ]
        },
        {
          "output_type": "stream",
          "name": "stderr",
          "text": [
            "\n",
            "Download completed\n"
          ]
        }
      ],
      "source": [
        "import gdown\n",
        "import os\n",
        "import zipfile\n",
        "\n",
        "# Link para a pasta do Google Drive\n",
        "folder_url = 'https://drive.google.com/drive/folders/1Sc3vwxvNFRc3lFxlLXwwF4QoHGYePdRI'\n",
        "\n",
        "# Baixar a lista de arquivos na pasta\n",
        "downloaded_files = gdown.download_folder(folder_url, output='./data', quiet=False)\n",
        "\n",
        "# Verificar quantos arquivos foram baixados\n",
        "num_files_downloaded = len(downloaded_files)\n",
        "\n",
        "print(f'{num_files_downloaded} arquivos baixados')"
      ]
    },
    {
      "cell_type": "code",
      "execution_count": null,
      "metadata": {
        "colab": {
          "base_uri": "https://localhost:8080/"
        },
        "id": "VfNAkrfRR0qT",
        "outputId": "a4c7fb81-1dcc-44b6-859b-f57bb9cc566b"
      },
      "outputs": [
        {
          "output_type": "stream",
          "name": "stdout",
          "text": [
            "Extraído: ./data/2024-04-27.zip\n",
            "Extraído: ./data/2024-05-06.zip\n",
            "Extraído: ./data/2024-04-30.zip\n",
            "Extraído: ./data/2024-04-26.zip\n",
            "Extraído: ./data/2024-04-29.zip\n",
            "Extraído: ./data/2024-05-05.zip\n",
            "Extraído: ./data/2024-04-28.zip\n",
            "Extraído: ./data/2024-05-07.zip\n",
            "Extraído: ./data/2024-04-25.zip\n",
            "Extraído: ./data/2024-05-08.zip\n",
            "Extraído: ./data/2024-05-03.zip\n",
            "Extraído: ./data/2024-05-01.zip\n",
            "Extraído: ./data/2024-05-09.zip\n",
            "Extraído: ./data/2024-05-10.zip\n",
            "Extraído: ./data/2024-05-02.zip\n",
            "Extraído: ./data/2024-05-04.zip\n",
            "Extração completa.\n"
          ]
        }
      ],
      "source": [
        "# Extrair todos os arquivos zip\n",
        "zip_dir = './data'\n",
        "json_folder = './data/json'\n",
        "os.makedirs(json_folder, exist_ok=True)\n",
        "\n",
        "for item in os.listdir(zip_dir):\n",
        "    if item.endswith('.zip'):\n",
        "        file_name = os.path.join(zip_dir, item)\n",
        "        extract_dir = os.path.join(json_folder, os.path.splitext(item)[0])\n",
        "        if not os.path.exists(extract_dir):\n",
        "            with zipfile.ZipFile(file_name, 'r') as zip_ref:\n",
        "                zip_ref.extractall(extract_dir)\n",
        "            print(f'Extraído: {file_name}')\n",
        "\n",
        "print(\"Extração completa.\")"
      ]
    },
    {
      "cell_type": "markdown",
      "metadata": {
        "id": "X1P0oV5K1to0"
      },
      "source": [
        "**CRIANDO A TABELA E A CONEXÃO COM O BANCO DE DADOS**"
      ]
    },
    {
      "cell_type": "code",
      "execution_count": null,
      "metadata": {
        "id": "95slxOH9vzpT"
      },
      "outputs": [],
      "source": [
        "import sqlite3\n",
        "import json\n",
        "import os\n",
        "import glob\n",
        "from tqdm import tqdm\n",
        "\n",
        "def convert_bytes(num):\n",
        "    for x in ['bytes', 'KB', 'MB', 'GB']:\n",
        "        if num < 1024.0:\n",
        "            return \"%3.1f %s\" % (num, x)\n",
        "        num /= 1024.0\n",
        "\n",
        "class Database:\n",
        "  def __init__(self, name):\n",
        "    self.name = name\n",
        "    self._create_table()\n",
        "\n",
        "  def _create_table(self):\n",
        "    conn = sqlite3.connect(self.name)\n",
        "    cursor = conn.cursor()\n",
        "    cursor.execute('''\n",
        "    CREATE TABLE IF NOT EXISTS localizacao_onibus (\n",
        "        ordem TEXT,\n",
        "        latitude REAL,\n",
        "        longitude REAL,\n",
        "        datahora BIGINT,\n",
        "        velocidade INTEGER,\n",
        "        linha TEXT,\n",
        "        datahoraenvio BIGINT,\n",
        "        datahoraservidor BIGINT\n",
        "    )\n",
        "    ''')\n",
        "    conn.close()\n",
        "\n",
        "  def insert_data(self, data):\n",
        "    conn = sqlite3.connect(self.name)\n",
        "    cursor = conn.cursor()\n",
        "\n",
        "    cursor.executemany('''\n",
        "    INSERT INTO localizacao_onibus (\n",
        "        ordem, latitude, longitude, datahora, velocidade, linha, datahoraenvio, datahoraservidor\n",
        "    ) VALUES (\n",
        "        :ordem, :latitude, :longitude, :datahora, :velocidade, :linha, :datahoraenvio, :datahoraservidor\n",
        "    )\n",
        "    ''', data)\n",
        "\n",
        "    conn.commit()\n",
        "    conn.close()\n",
        "\n",
        "  def select_data(self):\n",
        "    conn = sqlite3.connect(self.name)\n",
        "    cursor = conn.cursor()\n",
        "\n",
        "    cursor.execute('SELECT * FROM localizacao_onibus')\n",
        "    rows = cursor.fetchall()\n",
        "\n",
        "    columns = [col[0] for col in cursor.description]\n",
        "    data = [dict(zip(columns, row)) for row in rows]\n",
        "\n",
        "    conn.close()\n",
        "\n",
        "    return data\n",
        "\n",
        "  def get_size(self):\n",
        "    return convert_bytes(os.path.getsize(self.name))\n",
        "\n",
        "database_name = \"localizacao_onibus.db\"\n",
        "db = Database(database_name)"
      ]
    },
    {
      "cell_type": "code",
      "execution_count": null,
      "metadata": {
        "colab": {
          "base_uri": "https://localhost:8080/"
        },
        "id": "ci86ZtByyvts",
        "outputId": "f785793a-fe42-4afe-caa0-7ea6bbf50b18"
      },
      "outputs": [
        {
          "output_type": "stream",
          "name": "stderr",
          "text": [
            "Inserindo dados: 100%|██████████| 384/384 [17:44<00:00,  2.77s/it]"
          ]
        },
        {
          "output_type": "stream",
          "name": "stdout",
          "text": [
            "\n",
            "Tudo certo! Todos os dados foram inseridos. Tamanho total do database: 7.9 GB\n"
          ]
        },
        {
          "output_type": "stream",
          "name": "stderr",
          "text": [
            "\n"
          ]
        }
      ],
      "source": [
        "# Listar todos os arquivos JSON extraídos\n",
        "json_folder = './data/json'\n",
        "json_files = glob.glob(os.path.join(json_folder, '**/*.json'), recursive=True)\n",
        "\n",
        "for json_file in tqdm(json_files, desc=\"Inserindo dados\"):\n",
        "    with open(json_file, 'r') as f:\n",
        "        try:\n",
        "            data = json.load(f)\n",
        "        except json.JSONDecodeError:\n",
        "            print('Erro na leitura do arquivo ' + json_file)\n",
        "            continue\n",
        "\n",
        "        registros = [\n",
        "            {\n",
        "                'ordem': item.get('ordem'),\n",
        "                'latitude': float(item.get('latitude').replace(',', '.')),\n",
        "                'longitude': float(item.get('longitude').replace(',', '.')),\n",
        "                'datahora': int(item.get('datahora')),\n",
        "                'velocidade': int(item.get('velocidade')),\n",
        "                'linha': item.get('linha'),\n",
        "                'datahoraenvio': int(item.get('datahoraenvio')),\n",
        "                'datahoraservidor': int(item.get('datahoraservidor'))\n",
        "            }\n",
        "            for item in data\n",
        "        ]\n",
        "        # Inserir dados no banco\n",
        "        db.insert_data(registros)\n",
        "\n",
        "print(f\"\\nTudo certo! Todos os dados foram inseridos. Tamanho total do database: {db.get_size()}\")"
      ]
    },
    {
      "cell_type": "markdown",
      "metadata": {
        "id": "lvKvXW2t1OEq"
      },
      "source": [
        "**BAIXANDO O DATABASE**"
      ]
    },
    {
      "cell_type": "code",
      "source": [
        "from google.colab import drive\n",
        "import shutil\n",
        "drive.mount('/content/drive')\n",
        "\n",
        "# Caminho para o arquivo do banco de dados\n",
        "db_path = \"localizacao_onibus.db\"\n",
        "\n",
        "# Caminho no Google Drive onde o arquivo será salvo\n",
        "drive_path = \"/content/drive/MyDrive/localizacao_onibus.db\"\n",
        "\n",
        "# Copiar o arquivo para o Google Drive\n",
        "shutil.copy(db_path, drive_path)\n",
        "print(f\"Arquivo copiado para {drive_path}\")"
      ],
      "metadata": {
        "colab": {
          "base_uri": "https://localhost:8080/"
        },
        "id": "NCElLYkJYSsM",
        "outputId": "14bc1217-9e7f-44fd-aafb-7af77873a1e7"
      },
      "execution_count": null,
      "outputs": [
        {
          "output_type": "stream",
          "name": "stdout",
          "text": [
            "Mounted at /content/drive\n",
            "Arquivo copiado para /content/drive/MyDrive/localizacao_onibus.db\n"
          ]
        }
      ]
    }
  ],
  "metadata": {
    "accelerator": "GPU",
    "colab": {
      "gpuType": "A100",
      "machine_shape": "hm",
      "provenance": []
    },
    "kernelspec": {
      "display_name": "Python 3",
      "name": "python3"
    },
    "language_info": {
      "name": "python"
    }
  },
  "nbformat": 4,
  "nbformat_minor": 0
}